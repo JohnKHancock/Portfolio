{
 "cells": [
  {
   "cell_type": "markdown",
   "metadata": {},
   "source": [
    "\n",
    " \n",
    " # <center> Udacity Machine Learning Capstone Project: MLB Wins Prediction </center>\n",
    " ## <center> Data Collection and Data Wrangling </center>\n",
    "\n",
    "\n",
    "<center> <img src=\"mlb_logo.jpg\" align=\"center\" alt=\"Copyright Major League Baseball\" height=\"320\" width=\"320\" /></center> \n",
    "\n"
   ]
  },
  {
   "cell_type": "markdown",
   "metadata": {},
   "source": [
    "### <center><b>Overview</b></center>\n",
    "\n",
    "This section of the Capstone project, MLB Wins Prediction, details the data collection and data wrangling process and procedures that resulted in generating the final dataset which was used to create the prediction model. For more information on the prediction model, please see XXXXX. \n",
    "\n",
    "The following items are covered in this report:\n",
    "\n",
    "\n",
    "[1.0. About the Data Source](#About-the-Data-Source)<br/>\n",
    "[2.0. Data Collection](#Data-Collection)<br/>\n",
    "[3.0. Data Collection Process](#Data-Collection-Process)<br/>\n",
    "[4.0. Data Inspection](#Data-Inspection)<br/>\n",
    "[5.0. Data Wrangling](#Data-Wrangling)<br/>\n",
    "[6.0. Reflections](#Reflections)<br/>\n"
   ]
  },
  {
   "cell_type": "markdown",
   "metadata": {},
   "source": [
    "### <a id='About-the-Data-Source'><b><font color=black><center>1.0. About the Data Source: FanGraphs.com</center></font></b></a>\n",
    "\n",
    "Fangraphs.com is website operated by FanGraphs, Inc. Fangraphs compiles historical statistical data for the entire history of Major League Baseball.  In addition, it creates and records advanced baseball metrics outside of the established statistics. FanGraphs is well established as a chronicler and compiler of baseball statistics.  It has parternership deals with ESPN and SB Nation. (Link to website: https://www.fangraphs.com/) (Wikipedia: https://en.wikipedia.org/wiki/Fangraphs)\n",
    "\n",
    "For the purpose of this academic exercise, I purchased a year's membership to the site and was able to download the datasets needed for this project.  \n",
    "\n",
    "\n"
   ]
  },
  {
   "cell_type": "markdown",
   "metadata": {},
   "source": [
    "### <a id='Data-Collection'><b><font color=black><center>2.0. Data Collection</center></font></b></a>\n",
    "Fangraphs has an interface for members wherein you are able to download individual and team statistics covering a single season or multiple years. You are able to download and expoet the data to a csv file."
   ]
  },
  {
   "cell_type": "markdown",
   "metadata": {},
   "source": [
    "<center> <img src=\"FG.PNG\" align=\"center\" alt=\"Fangraphs.com\" height=\"600\" width=\"600\" /></center> "
   ]
  },
  {
   "cell_type": "markdown",
   "metadata": {},
   "source": [
    "### <a id='Data-Collection-Process'><b><font color=black><center>3.0. Data Collection Process</center></font></b></a>\n",
    "\n",
    "As stated previously, FanGraphs compiles a massive amount of statistical data from standard metrics, Earned Run Average, Home Runs, Runs Batted In, Error, Double Play to more advanced measures such as Weighted Runs Created, Ultimate Base Running, and Ultimate Zone Rating. On the site, you can generate a custom report for these statistics Fielding, Hitting, and Pitching which is exactly how I collected the data.   \n",
    "\n",
    "<center> <img src=\"FG1.PNG\" align=\"center\" alt=\"Fangraphs.com\" height=\"320\" width=\"320\" /></center> \n",
    "\n",
    "I created three custom reports for Fielding, Hitting, and Pitching statistics for the past 20 years of MLB.  I used the cutoff year of 1998 since that was the last year that MLB expanded by adding two additional teams.  Data from any other previous era would not be consistent with this current era and may affect the model. In order for the model to make accurate predicitions about Wins, it must reflect the current state of the game. \n",
    "\n",
    "Each custom report contains every statistic compiled by FanGraphs on the site. I then downloaded a report for every year from 1998 to 2017 for Fielding, Hitting, and Pitching.  There are 72 different statistical categories for each year of Fielding statistics, 304 different statistical categories for each year of Hitting statistics, and 320 different statistical categories for each year of Pitching statistics\n",
    "\n",
    "The downloaded datasets may be found in the folder path: <b>00_Data Collection and Wrangling\\Data\\Revised Statistics</b>\n",
    "\n"
   ]
  },
  {
   "cell_type": "markdown",
   "metadata": {},
   "source": [
    "### <a id='Data-Inspection'><b><font color=black><center>4.0. Data Inspection</center></font></b></a>\n",
    "\n",
    "In order to combine the datasets into one overall dataset, I did the following:\n",
    "\n",
    "First, I copied the datasets for fielding, hitting, and pitching into their own folders by Years.  See the directory: <b>00_Data Collection and Wrangling\\Data\\Revised Statistics\\Years\\</b> \n",
    "\n",
    "Next, after a cusory inspection of the datasets showed that the names for some of the statistics were the same for all three types, fielding, hitting, and pitching. For example, the strikeouts metric, \"SO\", is the same for both hitting and pitching, but it has two very different meanings.  In order to distinguish these features, I had to prepend an identifier.  For fielding, I prepended, \"FIELD_\". For pitching, I used \"PITCH_\", and for hitting, I used \"HIT_\". \n",
    "\n",
    "Finally, all datasets were combined into one dataset, CUMULATIVE_MLB_STATS_1998_to_2017.csv, and written out to a csv file of the same name. \n",
    "\n",
    "\n"
   ]
  },
  {
   "cell_type": "code",
   "execution_count": 1,
   "metadata": {},
   "outputs": [],
   "source": [
    "# Import the libraries needed\n",
    "import os\n",
    "import numpy as np\n",
    "import pandas as pd\n",
    "import pprint as pp\n",
    "import capstoneutils as cp\n",
    "\n",
    "from matplotlib import pyplot as plt\n",
    "%matplotlib inline\n",
    "import seaborn as sns\n",
    "from glob import glob\n",
    "path = os.getcwd()\n",
    "\n",
    "\n",
    "\n"
   ]
  },
  {
   "cell_type": "markdown",
   "metadata": {},
   "source": [
    "## <font color='red'>PLEASE NOTE THAT THE csv files have already been created in their folders.  If you run the code below, please make sure that all of the files in the folder, <b>00_Data_Collection_and_Wrangling\\Data\\Revised Statistics\\Years\\Output</b> have been deleted.</font>"
   ]
  },
  {
   "cell_type": "code",
   "execution_count": 2,
   "metadata": {},
   "outputs": [
    {
     "name": "stdout",
     "output_type": "stream",
     "text": [
      "C:\\Users\\jkhan\\Documents\\udacity\\MLND\\Capstone Project\\CAPSTONE FINAL PROJECT\\00_Data_Collection_and_Wrangling\\Data\\Revised Statistics\\Years\\1998\\ \n",
      "C:\\Users\\jkhan\\Documents\\udacity\\MLND\\Capstone Project\\CAPSTONE FINAL PROJECT\\00_Data_Collection_and_Wrangling\\Data\\Revised Statistics\\Years\\1999\\ \n",
      "C:\\Users\\jkhan\\Documents\\udacity\\MLND\\Capstone Project\\CAPSTONE FINAL PROJECT\\00_Data_Collection_and_Wrangling\\Data\\Revised Statistics\\Years\\2000\\ \n",
      "C:\\Users\\jkhan\\Documents\\udacity\\MLND\\Capstone Project\\CAPSTONE FINAL PROJECT\\00_Data_Collection_and_Wrangling\\Data\\Revised Statistics\\Years\\2001\\ \n",
      "C:\\Users\\jkhan\\Documents\\udacity\\MLND\\Capstone Project\\CAPSTONE FINAL PROJECT\\00_Data_Collection_and_Wrangling\\Data\\Revised Statistics\\Years\\2002\\ \n",
      "C:\\Users\\jkhan\\Documents\\udacity\\MLND\\Capstone Project\\CAPSTONE FINAL PROJECT\\00_Data_Collection_and_Wrangling\\Data\\Revised Statistics\\Years\\2003\\ \n",
      "C:\\Users\\jkhan\\Documents\\udacity\\MLND\\Capstone Project\\CAPSTONE FINAL PROJECT\\00_Data_Collection_and_Wrangling\\Data\\Revised Statistics\\Years\\2004\\ \n",
      "C:\\Users\\jkhan\\Documents\\udacity\\MLND\\Capstone Project\\CAPSTONE FINAL PROJECT\\00_Data_Collection_and_Wrangling\\Data\\Revised Statistics\\Years\\2005\\ \n",
      "C:\\Users\\jkhan\\Documents\\udacity\\MLND\\Capstone Project\\CAPSTONE FINAL PROJECT\\00_Data_Collection_and_Wrangling\\Data\\Revised Statistics\\Years\\2006\\ \n",
      "C:\\Users\\jkhan\\Documents\\udacity\\MLND\\Capstone Project\\CAPSTONE FINAL PROJECT\\00_Data_Collection_and_Wrangling\\Data\\Revised Statistics\\Years\\2007\\ \n",
      "C:\\Users\\jkhan\\Documents\\udacity\\MLND\\Capstone Project\\CAPSTONE FINAL PROJECT\\00_Data_Collection_and_Wrangling\\Data\\Revised Statistics\\Years\\2008\\ \n",
      "C:\\Users\\jkhan\\Documents\\udacity\\MLND\\Capstone Project\\CAPSTONE FINAL PROJECT\\00_Data_Collection_and_Wrangling\\Data\\Revised Statistics\\Years\\2009\\ \n",
      "C:\\Users\\jkhan\\Documents\\udacity\\MLND\\Capstone Project\\CAPSTONE FINAL PROJECT\\00_Data_Collection_and_Wrangling\\Data\\Revised Statistics\\Years\\2010\\ \n",
      "C:\\Users\\jkhan\\Documents\\udacity\\MLND\\Capstone Project\\CAPSTONE FINAL PROJECT\\00_Data_Collection_and_Wrangling\\Data\\Revised Statistics\\Years\\2011\\ \n",
      "C:\\Users\\jkhan\\Documents\\udacity\\MLND\\Capstone Project\\CAPSTONE FINAL PROJECT\\00_Data_Collection_and_Wrangling\\Data\\Revised Statistics\\Years\\2012\\ \n",
      "C:\\Users\\jkhan\\Documents\\udacity\\MLND\\Capstone Project\\CAPSTONE FINAL PROJECT\\00_Data_Collection_and_Wrangling\\Data\\Revised Statistics\\Years\\2013\\ \n",
      "C:\\Users\\jkhan\\Documents\\udacity\\MLND\\Capstone Project\\CAPSTONE FINAL PROJECT\\00_Data_Collection_and_Wrangling\\Data\\Revised Statistics\\Years\\2014\\ \n",
      "C:\\Users\\jkhan\\Documents\\udacity\\MLND\\Capstone Project\\CAPSTONE FINAL PROJECT\\00_Data_Collection_and_Wrangling\\Data\\Revised Statistics\\Years\\2015\\ \n",
      "C:\\Users\\jkhan\\Documents\\udacity\\MLND\\Capstone Project\\CAPSTONE FINAL PROJECT\\00_Data_Collection_and_Wrangling\\Data\\Revised Statistics\\Years\\2016\\ \n",
      "C:\\Users\\jkhan\\Documents\\udacity\\MLND\\Capstone Project\\CAPSTONE FINAL PROJECT\\00_Data_Collection_and_Wrangling\\Data\\Revised Statistics\\Years\\2017\\ \n"
     ]
    }
   ],
   "source": [
    "#The for loop that writes out the csv files. \n",
    "\n",
    "for i in range(1998, 2018):\n",
    "    i = str(i)\n",
    "    csvPath = \"\\\\Data\\\\Revised Statistics\\\\Years\\\\\"\n",
    "    csvFiles = path + csvPath+i + r\"\\ \" \n",
    "    print(csvFiles)\n",
    "    dataFrameName = pd.DataFrame()\n",
    "    dataFrameName = cp.mergeCSVs(csvFiles, i+\"_MLB_STATS.csv\", path + r\"\\Data\\Revised Statistics\\Years\\Output\\ \")\n"
   ]
  },
  {
   "cell_type": "code",
   "execution_count": 3,
   "metadata": {},
   "outputs": [],
   "source": [
    "#The final combined csv file for all Fielding, Pitching, and Hitting data from 1998 to 2017\n",
    "CUMULATIVE_MLB_STATS_1998_to_2017 = pd.DataFrame()\n",
    "files = glob(\"*.csv\")\n",
    "dfList = [pd.read_csv(f) for f in files]\n",
    "CUMULATIVE_MLB_STATS_1998_to_2017_01 = pd.concat(dfList)\n",
    "CUMULATIVE_MLB_STATS_1998_to_2017_01.reset_index(inplace=True,drop=True)\n",
    "CUMULATIVE_MLB_STATS_1998_to_2017_01.to_csv(\"CUMULATIVE_MLB_STATS_1998_to_2017_01.csv\")"
   ]
  },
  {
   "cell_type": "markdown",
   "metadata": {},
   "source": [
    "### <a id='Data-Wrangling'><b><font color=black><center>5.0. Data Wrangling</center></font></b></a>\n",
    "\n",
    "The shape of the combined datasets shows 600 observations and 697 features.  The head function shows an additional column, \"Unnamed\". When looking at the colum values, I noticed that there were duplicates as some of the column headings have a \".1\" suffix which indicates a duplicate."
   ]
  },
  {
   "cell_type": "code",
   "execution_count": 4,
   "metadata": {},
   "outputs": [
    {
     "data": {
      "text/plain": [
       "(600, 697)"
      ]
     },
     "execution_count": 4,
     "metadata": {},
     "output_type": "execute_result"
    }
   ],
   "source": [
    "CUMULATIVE_MLB_STATS_1998_to_2017_01.shape"
   ]
  },
  {
   "cell_type": "code",
   "execution_count": 5,
   "metadata": {},
   "outputs": [
    {
     "data": {
      "text/html": [
       "<div>\n",
       "<style scoped>\n",
       "    .dataframe tbody tr th:only-of-type {\n",
       "        vertical-align: middle;\n",
       "    }\n",
       "\n",
       "    .dataframe tbody tr th {\n",
       "        vertical-align: top;\n",
       "    }\n",
       "\n",
       "    .dataframe thead th {\n",
       "        text-align: right;\n",
       "    }\n",
       "</style>\n",
       "<table border=\"1\" class=\"dataframe\">\n",
       "  <thead>\n",
       "    <tr style=\"text-align: right;\">\n",
       "      <th></th>\n",
       "      <th>Unnamed: 0</th>\n",
       "      <th>Team</th>\n",
       "      <th>W</th>\n",
       "      <th>L</th>\n",
       "      <th>PITCH_ERA</th>\n",
       "      <th>PITCH_G</th>\n",
       "      <th>PITCH_GS</th>\n",
       "      <th>PITCH_CG</th>\n",
       "      <th>PITCH_ShO</th>\n",
       "      <th>PITCH_SV</th>\n",
       "      <th>...</th>\n",
       "      <th>FIELD_1-10%</th>\n",
       "      <th>FIELD_# 1-10%</th>\n",
       "      <th>FIELD_10-40%</th>\n",
       "      <th>FIELD_# 10-40%</th>\n",
       "      <th>FIELD_40-60%</th>\n",
       "      <th>FIELD_# 40-60%</th>\n",
       "      <th>FIELD_60-90%</th>\n",
       "      <th>FIELD_# 60-90%</th>\n",
       "      <th>FIELD_90-100%</th>\n",
       "      <th>FIELD_# 90-100%</th>\n",
       "    </tr>\n",
       "  </thead>\n",
       "  <tbody>\n",
       "    <tr>\n",
       "      <th>0</th>\n",
       "      <td>0</td>\n",
       "      <td>Braves</td>\n",
       "      <td>106</td>\n",
       "      <td>56</td>\n",
       "      <td>3.25</td>\n",
       "      <td>516</td>\n",
       "      <td>162</td>\n",
       "      <td>24</td>\n",
       "      <td>14</td>\n",
       "      <td>45</td>\n",
       "      <td>...</td>\n",
       "      <td>NaN</td>\n",
       "      <td>NaN</td>\n",
       "      <td>NaN</td>\n",
       "      <td>NaN</td>\n",
       "      <td>NaN</td>\n",
       "      <td>NaN</td>\n",
       "      <td>NaN</td>\n",
       "      <td>NaN</td>\n",
       "      <td>NaN</td>\n",
       "      <td>NaN</td>\n",
       "    </tr>\n",
       "    <tr>\n",
       "      <th>1</th>\n",
       "      <td>1</td>\n",
       "      <td>Astros</td>\n",
       "      <td>102</td>\n",
       "      <td>60</td>\n",
       "      <td>3.50</td>\n",
       "      <td>501</td>\n",
       "      <td>162</td>\n",
       "      <td>12</td>\n",
       "      <td>7</td>\n",
       "      <td>44</td>\n",
       "      <td>...</td>\n",
       "      <td>NaN</td>\n",
       "      <td>NaN</td>\n",
       "      <td>NaN</td>\n",
       "      <td>NaN</td>\n",
       "      <td>NaN</td>\n",
       "      <td>NaN</td>\n",
       "      <td>NaN</td>\n",
       "      <td>NaN</td>\n",
       "      <td>NaN</td>\n",
       "      <td>NaN</td>\n",
       "    </tr>\n",
       "    <tr>\n",
       "      <th>2</th>\n",
       "      <td>2</td>\n",
       "      <td>Padres</td>\n",
       "      <td>98</td>\n",
       "      <td>64</td>\n",
       "      <td>3.63</td>\n",
       "      <td>531</td>\n",
       "      <td>162</td>\n",
       "      <td>14</td>\n",
       "      <td>5</td>\n",
       "      <td>59</td>\n",
       "      <td>...</td>\n",
       "      <td>NaN</td>\n",
       "      <td>NaN</td>\n",
       "      <td>NaN</td>\n",
       "      <td>NaN</td>\n",
       "      <td>NaN</td>\n",
       "      <td>NaN</td>\n",
       "      <td>NaN</td>\n",
       "      <td>NaN</td>\n",
       "      <td>NaN</td>\n",
       "      <td>NaN</td>\n",
       "    </tr>\n",
       "    <tr>\n",
       "      <th>3</th>\n",
       "      <td>3</td>\n",
       "      <td>Mets</td>\n",
       "      <td>88</td>\n",
       "      <td>74</td>\n",
       "      <td>3.77</td>\n",
       "      <td>561</td>\n",
       "      <td>162</td>\n",
       "      <td>9</td>\n",
       "      <td>3</td>\n",
       "      <td>46</td>\n",
       "      <td>...</td>\n",
       "      <td>NaN</td>\n",
       "      <td>NaN</td>\n",
       "      <td>NaN</td>\n",
       "      <td>NaN</td>\n",
       "      <td>NaN</td>\n",
       "      <td>NaN</td>\n",
       "      <td>NaN</td>\n",
       "      <td>NaN</td>\n",
       "      <td>NaN</td>\n",
       "      <td>NaN</td>\n",
       "    </tr>\n",
       "    <tr>\n",
       "      <th>4</th>\n",
       "      <td>4</td>\n",
       "      <td>Dodgers</td>\n",
       "      <td>83</td>\n",
       "      <td>79</td>\n",
       "      <td>3.81</td>\n",
       "      <td>504</td>\n",
       "      <td>162</td>\n",
       "      <td>16</td>\n",
       "      <td>6</td>\n",
       "      <td>47</td>\n",
       "      <td>...</td>\n",
       "      <td>NaN</td>\n",
       "      <td>NaN</td>\n",
       "      <td>NaN</td>\n",
       "      <td>NaN</td>\n",
       "      <td>NaN</td>\n",
       "      <td>NaN</td>\n",
       "      <td>NaN</td>\n",
       "      <td>NaN</td>\n",
       "      <td>NaN</td>\n",
       "      <td>NaN</td>\n",
       "    </tr>\n",
       "  </tbody>\n",
       "</table>\n",
       "<p>5 rows × 697 columns</p>\n",
       "</div>"
      ],
      "text/plain": [
       "   Unnamed: 0     Team    W   L  PITCH_ERA  PITCH_G  PITCH_GS  PITCH_CG  \\\n",
       "0           0   Braves  106  56       3.25      516       162        24   \n",
       "1           1   Astros  102  60       3.50      501       162        12   \n",
       "2           2   Padres   98  64       3.63      531       162        14   \n",
       "3           3     Mets   88  74       3.77      561       162         9   \n",
       "4           4  Dodgers   83  79       3.81      504       162        16   \n",
       "\n",
       "   PITCH_ShO  PITCH_SV       ...         FIELD_1-10%  FIELD_# 1-10%  \\\n",
       "0         14        45       ...                 NaN            NaN   \n",
       "1          7        44       ...                 NaN            NaN   \n",
       "2          5        59       ...                 NaN            NaN   \n",
       "3          3        46       ...                 NaN            NaN   \n",
       "4          6        47       ...                 NaN            NaN   \n",
       "\n",
       "   FIELD_10-40%  FIELD_# 10-40%  FIELD_40-60%  FIELD_# 40-60%  FIELD_60-90%  \\\n",
       "0           NaN             NaN           NaN             NaN           NaN   \n",
       "1           NaN             NaN           NaN             NaN           NaN   \n",
       "2           NaN             NaN           NaN             NaN           NaN   \n",
       "3           NaN             NaN           NaN             NaN           NaN   \n",
       "4           NaN             NaN           NaN             NaN           NaN   \n",
       "\n",
       "   FIELD_# 60-90%  FIELD_90-100%  FIELD_# 90-100%  \n",
       "0             NaN            NaN              NaN  \n",
       "1             NaN            NaN              NaN  \n",
       "2             NaN            NaN              NaN  \n",
       "3             NaN            NaN              NaN  \n",
       "4             NaN            NaN              NaN  \n",
       "\n",
       "[5 rows x 697 columns]"
      ]
     },
     "execution_count": 5,
     "metadata": {},
     "output_type": "execute_result"
    }
   ],
   "source": [
    "CUMULATIVE_MLB_STATS_1998_to_2017_01.head(5)"
   ]
  },
  {
   "cell_type": "code",
   "execution_count": 6,
   "metadata": {},
   "outputs": [
    {
     "data": {
      "text/plain": [
       "array(['Unnamed: 0', 'Team', 'W', 'L', 'PITCH_ERA', 'PITCH_G', 'PITCH_GS',\n",
       "       'PITCH_CG', 'PITCH_ShO', 'PITCH_SV', 'PITCH_HLD', 'PITCH_BS',\n",
       "       'PITCH_IP', 'PITCH_TBF', 'PITCH_H', 'PITCH_R', 'PITCH_ER',\n",
       "       'PITCH_HR', 'PITCH_BB', 'PITCH_IBB', 'PITCH_HBP', 'PITCH_WP',\n",
       "       'PITCH_BK', 'PITCH_SO', 'PITCH_Age', 'PITCH_W.1', 'PITCH_L.1',\n",
       "       'PITCH_ERA.1', 'PITCH_G.1', 'PITCH_GS.1', 'PITCH_CG.1',\n",
       "       'PITCH_ShO.1', 'PITCH_SV.1', 'PITCH_BS.1', 'PITCH_IP.1',\n",
       "       'PITCH_TBF.1', 'PITCH_H.1', 'PITCH_R.1', 'PITCH_ER.1',\n",
       "       'PITCH_HR.1', 'PITCH_BB.1', 'PITCH_IBB.1', 'PITCH_HBP.1',\n",
       "       'PITCH_WP.1', 'PITCH_BK.1', 'PITCH_SO.1', 'PITCH_GB', 'PITCH_FB',\n",
       "       'PITCH_LD', 'PITCH_IFFB', 'PITCH_Balls', 'PITCH_Strikes',\n",
       "       'PITCH_Pitches', 'PITCH_RS', 'PITCH_IFH', 'PITCH_BU', 'PITCH_BUH',\n",
       "       'PITCH_K/9', 'PITCH_BB/9', 'PITCH_K/BB', 'PITCH_H/9', 'PITCH_HR/9',\n",
       "       'PITCH_AVG', 'PITCH_WHIP', 'PITCH_BABIP', 'PITCH_LOB%',\n",
       "       'PITCH_FIP', 'PITCH_GB/FB', 'PITCH_LD%', 'PITCH_GB%', 'PITCH_FB%',\n",
       "       'PITCH_IFFB%', 'PITCH_HR/FB', 'PITCH_IFH%', 'PITCH_BUH%',\n",
       "       'PITCH_Starting', 'PITCH_Start-IP', 'PITCH_Relieving',\n",
       "       'PITCH_Relief-IP', 'PITCH_RAR', 'PITCH_WAR', 'PITCH_Dollars',\n",
       "       'PITCH_tERA', 'PITCH_xFIP', 'PITCH_WPA', 'PITCH_-WPA',\n",
       "       'PITCH_+WPA', 'PITCH_RE24', 'PITCH_REW', 'PITCH_pLI', 'PITCH_inLI',\n",
       "       'PITCH_gmLI', 'PITCH_exLI', 'PITCH_Pulls', 'PITCH_WPA/LI',\n",
       "       'PITCH_Clutch', 'PITCH_FB%.1', 'PITCH_FBv', 'PITCH_SL%',\n",
       "       'PITCH_SLv', 'PITCH_CT%', 'PITCH_CTv', 'PITCH_CB%', 'PITCH_CBv',\n",
       "       'PITCH_CH%', 'PITCH_CHv', 'PITCH_SF%', 'PITCH_SFv', 'PITCH_KN%',\n",
       "       'PITCH_KNv', 'PITCH_XX%', 'PITCH_PO%', 'PITCH_wFB', 'PITCH_wSL',\n",
       "       'PITCH_wCT', 'PITCH_wCB', 'PITCH_wCH', 'PITCH_wSF', 'PITCH_wKN',\n",
       "       'PITCH_wFB/C', 'PITCH_wSL/C', 'PITCH_wCT/C', 'PITCH_wCB/C',\n",
       "       'PITCH_wCH/C', 'PITCH_wSF/C', 'PITCH_wKN/C', 'PITCH_O-Swing%',\n",
       "       'PITCH_Z-Swing%', 'PITCH_Swing%', 'PITCH_O-Contact%',\n",
       "       'PITCH_Z-Contact%', 'PITCH_Contact%', 'PITCH_Zone%',\n",
       "       'PITCH_F-Strike%', 'PITCH_SwStr%', 'PITCH_HLD.1', 'PITCH_SD',\n",
       "       'PITCH_MD', 'PITCH_ERA-', 'PITCH_FIP-', 'PITCH_xFIP-', 'PITCH_K%',\n",
       "       'PITCH_BB%', 'PITCH_SIERA', 'PITCH_RS/9', 'PITCH_E-F',\n",
       "       'PITCH_FA% (pfx)', 'PITCH_FT% (pfx)', 'PITCH_FC% (pfx)',\n",
       "       'PITCH_FS% (pfx)', 'PITCH_FO% (pfx)', 'PITCH_SI% (pfx)',\n",
       "       'PITCH_SL% (pfx)', 'PITCH_CU% (pfx)', 'PITCH_KC% (pfx)',\n",
       "       'PITCH_EP% (pfx)', 'PITCH_CH% (pfx)', 'PITCH_SC% (pfx)',\n",
       "       'PITCH_KN% (pfx)', 'PITCH_UN% (pfx)', 'PITCH_vFA (pfx)',\n",
       "       'PITCH_vFT (pfx)', 'PITCH_vFC (pfx)', 'PITCH_vFS (pfx)',\n",
       "       'PITCH_vFO (pfx)', 'PITCH_vSI (pfx)', 'PITCH_vSL (pfx)',\n",
       "       'PITCH_vCU (pfx)', 'PITCH_vKC (pfx)', 'PITCH_vEP (pfx)',\n",
       "       'PITCH_vCH (pfx)', 'PITCH_vSC (pfx)', 'PITCH_vKN (pfx)',\n",
       "       'PITCH_FA-X (pfx)', 'PITCH_FT-X (pfx)', 'PITCH_FC-X (pfx)',\n",
       "       'PITCH_FS-X (pfx)', 'PITCH_FO-X (pfx)', 'PITCH_SI-X (pfx)',\n",
       "       'PITCH_SL-X (pfx)', 'PITCH_CU-X (pfx)', 'PITCH_KC-X (pfx)',\n",
       "       'PITCH_EP-X (pfx)', 'PITCH_CH-X (pfx)', 'PITCH_SC-X (pfx)',\n",
       "       'PITCH_KN-X (pfx)', 'PITCH_FA-Z (pfx)', 'PITCH_FT-Z (pfx)',\n",
       "       'PITCH_FC-Z (pfx)', 'PITCH_FS-Z (pfx)', 'PITCH_FO-Z (pfx)',\n",
       "       'PITCH_SI-Z (pfx)', 'PITCH_SL-Z (pfx)', 'PITCH_CU-Z (pfx)',\n",
       "       'PITCH_KC-Z (pfx)', 'PITCH_EP-Z (pfx)', 'PITCH_CH-Z (pfx)',\n",
       "       'PITCH_SC-Z (pfx)', 'PITCH_KN-Z (pfx)', 'PITCH_wFA (pfx)',\n",
       "       'PITCH_wFT (pfx)', 'PITCH_wFC (pfx)', 'PITCH_wFS (pfx)',\n",
       "       'PITCH_wFO (pfx)', 'PITCH_wSI (pfx)', 'PITCH_wSL (pfx)',\n",
       "       'PITCH_wCU (pfx)', 'PITCH_wKC (pfx)', 'PITCH_wEP (pfx)',\n",
       "       'PITCH_wCH (pfx)', 'PITCH_wSC (pfx)', 'PITCH_wKN (pfx)',\n",
       "       'PITCH_wFA/C (pfx)', 'PITCH_wFT/C (pfx)', 'PITCH_wFC/C (pfx)',\n",
       "       'PITCH_wFS/C (pfx)', 'PITCH_wFO/C (pfx)', 'PITCH_wSI/C (pfx)',\n",
       "       'PITCH_wSL/C (pfx)', 'PITCH_wCU/C (pfx)', 'PITCH_wKC/C (pfx)',\n",
       "       'PITCH_wEP/C (pfx)', 'PITCH_wCH/C (pfx)', 'PITCH_wSC/C (pfx)',\n",
       "       'PITCH_wKN/C (pfx)', 'PITCH_O-Swing% (pfx)',\n",
       "       'PITCH_Z-Swing% (pfx)', 'PITCH_Swing% (pfx)',\n",
       "       'PITCH_O-Contact% (pfx)', 'PITCH_Z-Contact% (pfx)',\n",
       "       'PITCH_Contact% (pfx)', 'PITCH_Zone% (pfx)', 'PITCH_Pace',\n",
       "       'PITCH_RA9-WAR', 'PITCH_BIP-Wins', 'PITCH_LOB-Wins',\n",
       "       'PITCH_FDP-Wins', 'PITCH_Age Rng', 'PITCH_K-BB%', 'PITCH_Pull%',\n",
       "       'PITCH_Cent%', 'PITCH_Oppo%', 'PITCH_Soft%', 'PITCH_Med%',\n",
       "       'PITCH_Hard%', 'PITCH_kwERA', 'PITCH_TTO%', 'PITCH_CH% (pi)',\n",
       "       'PITCH_CS% (pi)', 'PITCH_CU% (pi)', 'PITCH_FA% (pi)',\n",
       "       'PITCH_FC% (pi)', 'PITCH_FS% (pi)', 'PITCH_KN% (pi)',\n",
       "       'PITCH_SB% (pi)', 'PITCH_SI% (pi)', 'PITCH_SL% (pi)',\n",
       "       'PITCH_XX% (pi)', 'PITCH_vCH (pi)', 'PITCH_vCS (pi)',\n",
       "       'PITCH_vCU (pi)', 'PITCH_vFA (pi)', 'PITCH_vFC (pi)',\n",
       "       'PITCH_vFS (pi)', 'PITCH_vKN (pi)', 'PITCH_vSB (pi)',\n",
       "       'PITCH_vSI (pi)', 'PITCH_vSL (pi)', 'PITCH_vXX (pi)',\n",
       "       'PITCH_CH-X (pi)', 'PITCH_CS-X (pi)', 'PITCH_CU-X (pi)',\n",
       "       'PITCH_FA-X (pi)', 'PITCH_FC-X (pi)', 'PITCH_FS-X (pi)',\n",
       "       'PITCH_KN-X (pi)', 'PITCH_SB-X (pi)', 'PITCH_SI-X (pi)',\n",
       "       'PITCH_SL-X (pi)', 'PITCH_XX-X (pi)', 'PITCH_CH-Z (pi)',\n",
       "       'PITCH_CS-Z (pi)', 'PITCH_CU-Z (pi)', 'PITCH_FA-Z (pi)',\n",
       "       'PITCH_FC-Z (pi)', 'PITCH_FS-Z (pi)', 'PITCH_KN-Z (pi)',\n",
       "       'PITCH_SB-Z (pi)', 'PITCH_SI-Z (pi)', 'PITCH_SL-Z (pi)',\n",
       "       'PITCH_XX-Z (pi)', 'PITCH_wCH (pi)', 'PITCH_wCS (pi)',\n",
       "       'PITCH_wCU (pi)', 'PITCH_wFA (pi)', 'PITCH_wFC (pi)',\n",
       "       'PITCH_wFS (pi)', 'PITCH_wKN (pi)', 'PITCH_wSB (pi)',\n",
       "       'PITCH_wSI (pi)', 'PITCH_wSL (pi)', 'PITCH_wXX (pi)',\n",
       "       'PITCH_wCH/C (pi)', 'PITCH_wCS/C (pi)', 'PITCH_wCU/C (pi)',\n",
       "       'PITCH_wFA/C (pi)', 'PITCH_wFC/C (pi)', 'PITCH_wFS/C (pi)',\n",
       "       'PITCH_wKN/C (pi)', 'PITCH_wSB/C (pi)', 'PITCH_wSI/C (pi)',\n",
       "       'PITCH_wSL/C (pi)', 'PITCH_wXX/C (pi)', 'PITCH_O-Swing% (pi)',\n",
       "       'PITCH_Z-Swing% (pi)', 'PITCH_Swing% (pi)',\n",
       "       'PITCH_O-Contact% (pi)', 'PITCH_Z-Contact% (pi)',\n",
       "       'PITCH_Contact% (pi)', 'PITCH_Zone% (pi)', 'PITCH_Pace (pi)',\n",
       "       'Team.1', 'OFF_G', 'OFF_PA', 'OFF_HR', 'OFF_R', 'OFF_RBI',\n",
       "       'OFF_SB', 'OFF_BB%', 'OFF_K%', 'OFF_ISO', 'OFF_BABIP', 'OFF_AVG',\n",
       "       'OFF_OBP', 'OFF_SLG', 'OFF_wOBA', 'OFF_wRC+', 'OFF_BsR', 'OFF_Off',\n",
       "       'OFF_Def', 'OFF_WAR', 'OFF_Age', 'OFF_G.1', 'OFF_AB', 'OFF_PA.1',\n",
       "       'OFF_H', 'OFF_1B', 'OFF_2B', 'OFF_3B', 'OFF_HR.1', 'OFF_R.1',\n",
       "       'OFF_RBI.1', 'OFF_BB', 'OFF_IBB', 'OFF_SO', 'OFF_HBP', 'OFF_SF',\n",
       "       'OFF_SH', 'OFF_GDP', 'OFF_SB.1', 'OFF_CS', 'OFF_AVG.1', 'OFF_GB',\n",
       "       'OFF_FB', 'OFF_LD', 'OFF_IFFB', 'OFF_Pitches', 'OFF_Balls',\n",
       "       'OFF_Strikes', 'OFF_IFH', 'OFF_BU', 'OFF_BUH', 'OFF_BB%.1',\n",
       "       'OFF_K%.1', 'OFF_BB/K', 'OFF_OBP.1', 'OFF_SLG.1', 'OFF_OPS',\n",
       "       'OFF_ISO.1', 'OFF_BABIP.1', 'OFF_GB/FB', 'OFF_LD%', 'OFF_GB%',\n",
       "       'OFF_FB%', 'OFF_IFFB%', 'OFF_HR/FB', 'OFF_IFH%', 'OFF_BUH%',\n",
       "       'OFF_wOBA.1', 'OFF_wRAA', 'OFF_wRC', 'OFF_Bat', 'OFF_Fld',\n",
       "       'OFF_Rep', 'OFF_Pos', 'OFF_RAR', 'OFF_WAR.1', 'OFF_Dol', 'OFF_Spd',\n",
       "       'OFF_wRC+.1', 'OFF_WPA', 'OFF_-WPA', 'OFF_+WPA', 'OFF_RE24',\n",
       "       'OFF_REW', 'OFF_pLI', 'OFF_phLI', 'OFF_PH', 'OFF_WPA/LI',\n",
       "       'OFF_Clutch', 'OFF_FB%.1', 'OFF_FBv', 'OFF_SL%', 'OFF_SLv',\n",
       "       'OFF_CT%', 'OFF_CTv', 'OFF_CB%', 'OFF_CBv', 'OFF_CH%', 'OFF_CHv',\n",
       "       'OFF_SF%', 'OFF_SFv', 'OFF_KN%', 'OFF_KNv', 'OFF_XX%', 'OFF_PO%',\n",
       "       'OFF_wFB', 'OFF_wSL', 'OFF_wCT', 'OFF_wCB', 'OFF_wCH', 'OFF_wSF',\n",
       "       'OFF_wKN', 'OFF_wFB/C', 'OFF_wSL/C', 'OFF_wCT/C', 'OFF_wCB/C',\n",
       "       'OFF_wCH/C', 'OFF_wSF/C', 'OFF_wKN/C', 'OFF_O-Swing%',\n",
       "       'OFF_Z-Swing%', 'OFF_Swing%', 'OFF_O-Contact%', 'OFF_Z-Contact%',\n",
       "       'OFF_Contact%', 'OFF_Zone%', 'OFF_F-Strike%', 'OFF_SwStr%',\n",
       "       'OFF_BsR.1', 'OFF_FA% (pfx)', 'OFF_FT% (pfx)', 'OFF_FC% (pfx)',\n",
       "       'OFF_FS% (pfx)', 'OFF_FO% (pfx)', 'OFF_SI% (pfx)', 'OFF_SL% (pfx)',\n",
       "       'OFF_CU% (pfx)', 'OFF_KC% (pfx)', 'OFF_EP% (pfx)', 'OFF_CH% (pfx)',\n",
       "       'OFF_SC% (pfx)', 'OFF_KN% (pfx)', 'OFF_UN% (pfx)', 'OFF_vFA (pfx)',\n",
       "       'OFF_vFT (pfx)', 'OFF_vFC (pfx)', 'OFF_vFS (pfx)', 'OFF_vFO (pfx)',\n",
       "       'OFF_vSI (pfx)', 'OFF_vSL (pfx)', 'OFF_vCU (pfx)', 'OFF_vKC (pfx)',\n",
       "       'OFF_vEP (pfx)', 'OFF_vCH (pfx)', 'OFF_vSC (pfx)', 'OFF_vKN (pfx)',\n",
       "       'OFF_FA-X (pfx)', 'OFF_FT-X (pfx)', 'OFF_FC-X (pfx)',\n",
       "       'OFF_FS-X (pfx)', 'OFF_FO-X (pfx)', 'OFF_SI-X (pfx)',\n",
       "       'OFF_SL-X (pfx)', 'OFF_CU-X (pfx)', 'OFF_KC-X (pfx)',\n",
       "       'OFF_EP-X (pfx)', 'OFF_CH-X (pfx)', 'OFF_SC-X (pfx)',\n",
       "       'OFF_KN-X (pfx)', 'OFF_FA-Z (pfx)', 'OFF_FT-Z (pfx)',\n",
       "       'OFF_FC-Z (pfx)', 'OFF_FS-Z (pfx)', 'OFF_FO-Z (pfx)',\n",
       "       'OFF_SI-Z (pfx)', 'OFF_SL-Z (pfx)', 'OFF_CU-Z (pfx)',\n",
       "       'OFF_KC-Z (pfx)', 'OFF_EP-Z (pfx)', 'OFF_CH-Z (pfx)',\n",
       "       'OFF_SC-Z (pfx)', 'OFF_KN-Z (pfx)', 'OFF_wFA (pfx)',\n",
       "       'OFF_wFT (pfx)', 'OFF_wFC (pfx)', 'OFF_wFS (pfx)', 'OFF_wFO (pfx)',\n",
       "       'OFF_wSI (pfx)', 'OFF_wSL (pfx)', 'OFF_wCU (pfx)', 'OFF_wKC (pfx)',\n",
       "       'OFF_wEP (pfx)', 'OFF_wCH (pfx)', 'OFF_wSC (pfx)', 'OFF_wKN (pfx)',\n",
       "       'OFF_wFA/C (pfx)', 'OFF_wFT/C (pfx)', 'OFF_wFC/C (pfx)',\n",
       "       'OFF_wFS/C (pfx)', 'OFF_wFO/C (pfx)', 'OFF_wSI/C (pfx)',\n",
       "       'OFF_wSL/C (pfx)', 'OFF_wCU/C (pfx)', 'OFF_wKC/C (pfx)',\n",
       "       'OFF_wEP/C (pfx)', 'OFF_wCH/C (pfx)', 'OFF_wSC/C (pfx)',\n",
       "       'OFF_wKN/C (pfx)', 'OFF_O-Swing% (pfx)', 'OFF_Z-Swing% (pfx)',\n",
       "       'OFF_Swing% (pfx)', 'OFF_O-Contact% (pfx)', 'OFF_Z-Contact% (pfx)',\n",
       "       'OFF_Contact% (pfx)', 'OFF_Zone% (pfx)', 'OFF_Pace', 'OFF_Def.1',\n",
       "       'OFF_wSB', 'OFF_UBR', 'OFF_Age Rng', 'OFF_Off.1', 'OFF_Lg',\n",
       "       'OFF_wGDP', 'OFF_Pull%', 'OFF_Cent%', 'OFF_Oppo%', 'OFF_Soft%',\n",
       "       'OFF_Med%', 'OFF_Hard%', 'OFF_TTO%', 'OFF_CH% (pi)',\n",
       "       'OFF_CS% (pi)', 'OFF_CU% (pi)', 'OFF_FA% (pi)', 'OFF_FC% (pi)',\n",
       "       'OFF_FS% (pi)', 'OFF_KN% (pi)', 'OFF_SB% (pi)', 'OFF_SI% (pi)',\n",
       "       'OFF_SL% (pi)', 'OFF_XX% (pi)', 'OFF_vCH (pi)', 'OFF_vCS (pi)',\n",
       "       'OFF_vCU (pi)', 'OFF_vFA (pi)', 'OFF_vFC (pi)', 'OFF_vFS (pi)',\n",
       "       'OFF_vKN (pi)', 'OFF_vSB (pi)', 'OFF_vSI (pi)', 'OFF_vSL (pi)',\n",
       "       'OFF_vXX (pi)', 'OFF_CH-X (pi)', 'OFF_CS-X (pi)', 'OFF_CU-X (pi)',\n",
       "       'OFF_FA-X (pi)', 'OFF_FC-X (pi)', 'OFF_FS-X (pi)', 'OFF_KN-X (pi)',\n",
       "       'OFF_SB-X (pi)', 'OFF_SI-X (pi)', 'OFF_SL-X (pi)', 'OFF_XX-X (pi)',\n",
       "       'OFF_CH-Z (pi)', 'OFF_CS-Z (pi)', 'OFF_CU-Z (pi)', 'OFF_FA-Z (pi)',\n",
       "       'OFF_FC-Z (pi)', 'OFF_FS-Z (pi)', 'OFF_KN-Z (pi)', 'OFF_SB-Z (pi)',\n",
       "       'OFF_SI-Z (pi)', 'OFF_SL-Z (pi)', 'OFF_XX-Z (pi)', 'OFF_wCH (pi)',\n",
       "       'OFF_wCS (pi)', 'OFF_wCU (pi)', 'OFF_wFA (pi)', 'OFF_wFC (pi)',\n",
       "       'OFF_wFS (pi)', 'OFF_wKN (pi)', 'OFF_wSB (pi)', 'OFF_wSI (pi)',\n",
       "       'OFF_wSL (pi)', 'OFF_wXX (pi)', 'OFF_wCH/C (pi)', 'OFF_wCS/C (pi)',\n",
       "       'OFF_wCU/C (pi)', 'OFF_wFA/C (pi)', 'OFF_wFC/C (pi)',\n",
       "       'OFF_wFS/C (pi)', 'OFF_wKN/C (pi)', 'OFF_wSB/C (pi)',\n",
       "       'OFF_wSI/C (pi)', 'OFF_wSL/C (pi)', 'OFF_wXX/C (pi)',\n",
       "       'OFF_O-Swing% (pi)', 'OFF_Z-Swing% (pi)', 'OFF_Swing% (pi)',\n",
       "       'OFF_O-Contact% (pi)', 'OFF_Z-Contact% (pi)', 'OFF_Contact% (pi)',\n",
       "       'OFF_Zone% (pi)', 'OFF_Pace (pi)', 'Team.2', 'FIELD_G', 'FIELD_GS',\n",
       "       'FIELD_Inn', 'FIELD_PO', 'FIELD_A', 'FIELD_E', 'FIELD_FE',\n",
       "       'FIELD_TE', 'FIELD_DP', 'FIELD_DPS', 'FIELD_DPT', 'FIELD_DPF',\n",
       "       'FIELD_Scp', 'FIELD_SB', 'FIELD_CS', 'FIELD_PB', 'FIELD_WP',\n",
       "       'FIELD_FP', 'FIELD_TZ', 'FIELD_G.1', 'FIELD_GS.1', 'FIELD_Inn.1',\n",
       "       'FIELD_PO.1', 'FIELD_A.1', 'FIELD_E.1', 'FIELD_FE.1', 'FIELD_TE.1',\n",
       "       'FIELD_DP.1', 'FIELD_DPS.1', 'FIELD_DPT.1', 'FIELD_DPF.1',\n",
       "       'FIELD_Scp.1', 'FIELD_SB.1', 'FIELD_CS.1', 'FIELD_PB.1',\n",
       "       'FIELD_WP.1', 'FIELD_FP.1', 'FIELD_TZ.1', 'FIELD_rSB',\n",
       "       'FIELD_rGDP', 'FIELD_rARM', 'FIELD_rGFP', 'FIELD_rPM', 'FIELD_DRS',\n",
       "       'FIELD_BIZ', 'FIELD_Plays', 'FIELD_RZR', 'FIELD_OOZ', 'FIELD_TZL',\n",
       "       'FIELD_FSR', 'FIELD_ARM', 'FIELD_DPR', 'FIELD_RngR', 'FIELD_ErrR',\n",
       "       'FIELD_UZR', 'FIELD_UZR/150', 'FIELD_CPP', 'FIELD_RPP',\n",
       "       'FIELD_Def', 'FIELD_0%', 'FIELD_# 0%', 'FIELD_1-10%',\n",
       "       'FIELD_# 1-10%', 'FIELD_10-40%', 'FIELD_# 10-40%', 'FIELD_40-60%',\n",
       "       'FIELD_# 40-60%', 'FIELD_60-90%', 'FIELD_# 60-90%',\n",
       "       'FIELD_90-100%', 'FIELD_# 90-100%'], dtype=object)"
      ]
     },
     "execution_count": 6,
     "metadata": {},
     "output_type": "execute_result"
    }
   ],
   "source": [
    "CUMULATIVE_MLB_STATS_1998_to_2017_01.columns.values"
   ]
  },
  {
   "cell_type": "markdown",
   "metadata": {},
   "source": [
    "The utilitiy function, removeDuplicateFeatures, removes all of the duplicate column names from the dataframe."
   ]
  },
  {
   "cell_type": "code",
   "execution_count": 7,
   "metadata": {},
   "outputs": [
    {
     "name": "stdout",
     "output_type": "stream",
     "text": [
      "['PITCH_W.1',\n",
      " 'PITCH_L.1',\n",
      " 'PITCH_ERA.1',\n",
      " 'PITCH_G.1',\n",
      " 'PITCH_GS.1',\n",
      " 'PITCH_CG.1',\n",
      " 'PITCH_ShO.1',\n",
      " 'PITCH_SV.1',\n",
      " 'PITCH_BS.1',\n",
      " 'PITCH_IP.1',\n",
      " 'PITCH_TBF.1',\n",
      " 'PITCH_H.1',\n",
      " 'PITCH_R.1',\n",
      " 'PITCH_ER.1',\n",
      " 'PITCH_HR.1',\n",
      " 'PITCH_BB.1',\n",
      " 'PITCH_IBB.1',\n",
      " 'PITCH_HBP.1',\n",
      " 'PITCH_WP.1',\n",
      " 'PITCH_BK.1',\n",
      " 'PITCH_SO.1',\n",
      " 'PITCH_FB%.1',\n",
      " 'PITCH_HLD.1',\n",
      " 'Team.1',\n",
      " 'OFF_G.1',\n",
      " 'OFF_PA.1',\n",
      " 'OFF_HR.1',\n",
      " 'OFF_R.1',\n",
      " 'OFF_RBI.1',\n",
      " 'OFF_SB.1',\n",
      " 'OFF_AVG.1',\n",
      " 'OFF_BB%.1',\n",
      " 'OFF_K%.1',\n",
      " 'OFF_OBP.1',\n",
      " 'OFF_SLG.1',\n",
      " 'OFF_ISO.1',\n",
      " 'OFF_BABIP.1',\n",
      " 'OFF_wOBA.1',\n",
      " 'OFF_WAR.1',\n",
      " 'OFF_wRC+.1',\n",
      " 'OFF_FB%.1',\n",
      " 'OFF_BsR.1',\n",
      " 'OFF_Def.1',\n",
      " 'OFF_Off.1',\n",
      " 'FIELD_G.1',\n",
      " 'FIELD_GS.1',\n",
      " 'FIELD_Inn.1',\n",
      " 'FIELD_PO.1',\n",
      " 'FIELD_A.1',\n",
      " 'FIELD_E.1',\n",
      " 'FIELD_FE.1',\n",
      " 'FIELD_TE.1',\n",
      " 'FIELD_DP.1',\n",
      " 'FIELD_DPS.1',\n",
      " 'FIELD_DPT.1',\n",
      " 'FIELD_DPF.1',\n",
      " 'FIELD_Scp.1',\n",
      " 'FIELD_SB.1',\n",
      " 'FIELD_CS.1',\n",
      " 'FIELD_PB.1',\n",
      " 'FIELD_WP.1',\n",
      " 'FIELD_FP.1',\n",
      " 'FIELD_TZ.1']\n"
     ]
    }
   ],
   "source": [
    "dupe_features_removed = list()       \n",
    "cp.removeDuplicateFeatures(CUMULATIVE_MLB_STATS_1998_to_2017_01,dupe_features_removed)\n",
    "pp.pprint(dupe_features_removed)\n",
    "\n",
    "\n"
   ]
  },
  {
   "cell_type": "code",
   "execution_count": 8,
   "metadata": {},
   "outputs": [
    {
     "data": {
      "text/plain": [
       "(600, 634)"
      ]
     },
     "execution_count": 8,
     "metadata": {},
     "output_type": "execute_result"
    }
   ],
   "source": [
    "#There are now 634 features in the dataset.\n",
    "\n",
    "CUMULATIVE_MLB_STATS_1998_to_2017_01.shape"
   ]
  },
  {
   "cell_type": "markdown",
   "metadata": {},
   "source": [
    "Even after duplicates are removed, there are 634 features in this dataset.  This is due to the fact that Fangraphs maintains a huge library of metrics for every team and player.  Some of these features, e.g. Wins Above Replacement (\"WAR\") are more of a measure for an individual player, not a team. A complete glossary of each statistic is available on the Fangraphs site at this link: https://www.fangraphs.com/library/\n",
    "\n",
    "For this project, I chose 137 features which are more team oriented features.  The complete list that I chose is here: <b>00_Data Collection and Wrangling\\Data\\Selected Features</b>\n",
    "\n"
   ]
  },
  {
   "cell_type": "code",
   "execution_count": 9,
   "metadata": {},
   "outputs": [],
   "source": [
    "CUMULATIVE_MLB_STATS_1998_to_2017_02 = CUMULATIVE_MLB_STATS_1998_to_2017_01[['FIELD_UZR','FIELD_DRS','FIELD_E','FIELD_DP','FIELD_rSB','FIELD_rGDP','FIELD_rARM','FIELD_rGFP','FIELD_rPM','FIELD_rPM','FIELD_BIZ','FIELD_Plays','FIELD_RZR','FIELD_OOZ','FIELD_TZL','FIELD_FSR','FIELD_ARM','FIELD_DPR','FIELD_RngR','FIELD_ErrR','FIELD_Def','FIELD_RPP','FIELD_CPP','FIELD_FE','FIELD_TE','FIELD_DPS','FIELD_DPT','FIELD_DPF','FIELD_Scp','FIELD_SB','FIELD_CS','FIELD_PB','FIELD_WP','FIELD_FP','FIELD_PO','OFF_PA','OFF_HR','OFF_R','OFF_RBI','OFF_SB','OFF_ISO','OFF_BABIP','OFF_AVG','OFF_OBP','OFF_SLG','OFF_wOBA','OFF_wRC+','OFF_H','OFF_1B','OFF_2B','OFF_3B','OFF_BB','OFF_IBB','OFF_SO','OFF_HBP','OFF_SF','OFF_GDP','OFF_CS','OFF_BB%','OFF_K%','OFF_BB/K','OFF_GB/FB','OFF_LD%','OFF_GB%','OFF_FB%','OFF_IFFB%','OFF_IFH%','OFF_BUH%','OFF_Pull%','OFF_Cent%','OFF_Oppo%','OFF_Soft%','OFF_Med%','OFF_Hard%','OFF_O-Swing%','OFF_Z-Swing%','OFF_Swing%','OFF_O-Contact%','OFF_Z-Contact%','OFF_Zone%','OFF_F-Strike%','OFF_SwStr%','OFF_HR/FB','OFF_BUH','OFF_IFH','W','L','PITCH_ERA','PITCH_CG','PITCH_ShO','PITCH_SV','PITCH_HLD','PITCH_BS','PITCH_H','PITCH_R','PITCH_ER','PITCH_HR','PITCH_BB','PITCH_IBB','PITCH_HBP','PITCH_WP','PITCH_BK','PITCH_SO','PITCH_GB','PITCH_FB','PITCH_LD','PITCH_Balls','PITCH_Strikes','PITCH_Pitches','PITCH_RS','PITCH_K/9','PITCH_BB/9','PITCH_K/BB','PITCH_H/9','PITCH_HR/9','PITCH_AVG','PITCH_WHIP','PITCH_BABIP','PITCH_LOB%','PITCH_FIP','PITCH_GB/FB','PITCH_LD%','PITCH_GB%','PITCH_FB%','PITCH_IFFB%','PITCH_HR/FB','PITCH_IFH%','PITCH_BUH%','PITCH_Starting','PITCH_Relieving','PITCH_Start-IP','PITCH_Relief-IP','PITCH_K%','PITCH_BB%','PITCH_RS/9','PITCH_Age','PITCH_xFIP','PITCH_tERA']]"
   ]
  },
  {
   "cell_type": "code",
   "execution_count": 10,
   "metadata": {},
   "outputs": [
    {
     "name": "stdout",
     "output_type": "stream",
     "text": [
      "(600, 138)\n"
     ]
    }
   ],
   "source": [
    "print(CUMULATIVE_MLB_STATS_1998_to_2017_02.shape)\n",
    "CUMULATIVE_MLB_STATS_1998_to_2017_02.to_csv('CUMULATIVE_MLB_STATS_1998_to_2017_02.csv')\n"
   ]
  },
  {
   "cell_type": "markdown",
   "metadata": {},
   "source": [
    "Looking at the feature, \"PITCH_K%\", which is a team's strikeouts percentage, I noticed that the values are in percents.  The remove percentages function removes the \"%\" sign and divides the number by 100. This function is applied to the entire dataframe."
   ]
  },
  {
   "cell_type": "code",
   "execution_count": 11,
   "metadata": {},
   "outputs": [
    {
     "data": {
      "text/plain": [
       "0    20.7 %\n",
       "1    19.1 %\n",
       "2    19.8 %\n",
       "3    18.3 %\n",
       "4    19.1 %\n",
       "5    17.7 %\n",
       "6    17.9 %\n",
       "Name: PITCH_K%, dtype: object"
      ]
     },
     "execution_count": 11,
     "metadata": {},
     "output_type": "execute_result"
    }
   ],
   "source": [
    "CUMULATIVE_MLB_STATS_1998_to_2017_02.loc[0:6,\"PITCH_K%\"]"
   ]
  },
  {
   "cell_type": "markdown",
   "metadata": {},
   "source": [
    "The capston utility function, remove_percentages, further cleans up the data by removing the '%\" sign. "
   ]
  },
  {
   "cell_type": "code",
   "execution_count": 12,
   "metadata": {},
   "outputs": [
    {
     "data": {
      "text/plain": [
       "(600, 138)"
      ]
     },
     "execution_count": 12,
     "metadata": {},
     "output_type": "execute_result"
    }
   ],
   "source": [
    "CUMULATIVE_MLB_STATS_1998_to_2017_03 = CUMULATIVE_MLB_STATS_1998_to_2017_02.applymap(cp.remove_percentages)\n",
    "CUMULATIVE_MLB_STATS_1998_to_2017_03.shape"
   ]
  },
  {
   "cell_type": "code",
   "execution_count": 13,
   "metadata": {},
   "outputs": [
    {
     "data": {
      "text/plain": [
       "0    0.207\n",
       "1    0.191\n",
       "2    0.198\n",
       "3    0.183\n",
       "4    0.191\n",
       "5    0.177\n",
       "6    0.179\n",
       "Name: PITCH_K%, dtype: float64"
      ]
     },
     "execution_count": 13,
     "metadata": {},
     "output_type": "execute_result"
    }
   ],
   "source": [
    "CUMULATIVE_MLB_STATS_1998_to_2017_03.loc[0:6,\"PITCH_K%\"]"
   ]
  },
  {
   "cell_type": "code",
   "execution_count": 14,
   "metadata": {},
   "outputs": [],
   "source": [
    "CUMULATIVE_MLB_STATS_1998_to_2017_03.to_csv('CUMULATIVE_MLB_STATS_1998_to_2017_03.csv')"
   ]
  },
  {
   "cell_type": "markdown",
   "metadata": {},
   "source": [
    "Next, I want to remove any features that have NaN or missing values. There are 138 features in this dataset and NaN or null values may affect the model's ability to accurately predict wins. First, we need to know the percentage of missing data for each feature. The graphic below shows those features which have greater than 20% NaN values. This makes intuitive sense that the Fielding features would have the higher NaN counts since it's difficult to measure fielding statistics unless it is being observed in real time. Pitching and hitting statistics can be gleaned from the box score."
   ]
  },
  {
   "cell_type": "code",
   "execution_count": 15,
   "metadata": {},
   "outputs": [
    {
     "data": {
      "text/html": [
       "<div>\n",
       "<style scoped>\n",
       "    .dataframe tbody tr th:only-of-type {\n",
       "        vertical-align: middle;\n",
       "    }\n",
       "\n",
       "    .dataframe tbody tr th {\n",
       "        vertical-align: top;\n",
       "    }\n",
       "\n",
       "    .dataframe thead th {\n",
       "        text-align: right;\n",
       "    }\n",
       "</style>\n",
       "<table border=\"1\" class=\"dataframe\">\n",
       "  <thead>\n",
       "    <tr style=\"text-align: right;\">\n",
       "      <th></th>\n",
       "      <th>Feature</th>\n",
       "      <th>Nan_Count_Percentage</th>\n",
       "    </tr>\n",
       "  </thead>\n",
       "  <tbody>\n",
       "    <tr>\n",
       "      <th>13</th>\n",
       "      <td>FIELD_TZL</td>\n",
       "      <td>1.00</td>\n",
       "    </tr>\n",
       "    <tr>\n",
       "      <th>14</th>\n",
       "      <td>FIELD_FSR</td>\n",
       "      <td>0.55</td>\n",
       "    </tr>\n",
       "    <tr>\n",
       "      <th>20</th>\n",
       "      <td>FIELD_RPP</td>\n",
       "      <td>0.65</td>\n",
       "    </tr>\n",
       "    <tr>\n",
       "      <th>21</th>\n",
       "      <td>FIELD_CPP</td>\n",
       "      <td>0.65</td>\n",
       "    </tr>\n",
       "  </tbody>\n",
       "</table>\n",
       "</div>"
      ],
      "text/plain": [
       "      Feature  Nan_Count_Percentage\n",
       "13  FIELD_TZL                  1.00\n",
       "14  FIELD_FSR                  0.55\n",
       "20  FIELD_RPP                  0.65\n",
       "21  FIELD_CPP                  0.65"
      ]
     },
     "execution_count": 15,
     "metadata": {},
     "output_type": "execute_result"
    },
    {
     "data": {
      "image/png": "[encoded data removed]",
      "text/plain": [
       "<matplotlib.figure.Figure at 0x187d315fa20>"
      ]
     },
     "metadata": {},
     "output_type": "display_data"
    }
   ],
   "source": [
    "Nan_count = (CUMULATIVE_MLB_STATS_1998_to_2017_03.isnull().sum()/600).to_dict()\n",
    "Nan_count_df = pd.DataFrame(list(Nan_count.items()), index=[i for i in range(0,137)], columns=[\"Feature\", \"Nan_Count_Percentage\"])\n",
    "Nan_count_df1 = Nan_count_df[Nan_count_df[\"Nan_Count_Percentage\"] > .25]                           \n",
    "ax = sns.barplot(x=\"Feature\", y=\"Nan_Count_Percentage\", data=Nan_count_df1)\n",
    "Nan_count_df1\n",
    "\n",
    "\n"
   ]
  },
  {
   "cell_type": "markdown",
   "metadata": {},
   "source": [
    "The next step is to remove all features where the NaN count percentage is greater than 0.  IOW, features with any NaN values will be removed entirely from the final dataset. \n"
   ]
  },
  {
   "cell_type": "code",
   "execution_count": 16,
   "metadata": {},
   "outputs": [
    {
     "data": {
      "text/plain": [
       "(600, 67)"
      ]
     },
     "execution_count": 16,
     "metadata": {},
     "output_type": "execute_result"
    }
   ],
   "source": [
    "CUMULATIVE_MLB_STATS_1998_to_2017_04 = CUMULATIVE_MLB_STATS_1998_to_2017_03.dropna(axis=1)\n",
    "CUMULATIVE_MLB_STATS_1998_to_2017_04.shape\n"
   ]
  },
  {
   "cell_type": "code",
   "execution_count": 17,
   "metadata": {},
   "outputs": [
    {
     "data": {
      "text/plain": [
       "{'FIELD_CS': 0.0,\n",
       " 'FIELD_DP': 0.0,\n",
       " 'FIELD_E': 0.0,\n",
       " 'FIELD_FP': 0.0,\n",
       " 'FIELD_PB': 0.0,\n",
       " 'FIELD_PO': 0.0,\n",
       " 'FIELD_SB': 0.0,\n",
       " 'FIELD_WP': 0.0,\n",
       " 'L': 0.0,\n",
       " 'OFF_1B': 0.0,\n",
       " 'OFF_2B': 0.0,\n",
       " 'OFF_3B': 0.0,\n",
       " 'OFF_AVG': 0.0,\n",
       " 'OFF_BABIP': 0.0,\n",
       " 'OFF_BB': 0.0,\n",
       " 'OFF_BB%': 0.0,\n",
       " 'OFF_BB/K': 0.0,\n",
       " 'OFF_CS': 0.0,\n",
       " 'OFF_GDP': 0.0,\n",
       " 'OFF_H': 0.0,\n",
       " 'OFF_HBP': 0.0,\n",
       " 'OFF_HR': 0.0,\n",
       " 'OFF_IBB': 0.0,\n",
       " 'OFF_ISO': 0.0,\n",
       " 'OFF_K%': 0.0,\n",
       " 'OFF_OBP': 0.0,\n",
       " 'OFF_PA': 0.0,\n",
       " 'OFF_R': 0.0,\n",
       " 'OFF_RBI': 0.0,\n",
       " 'OFF_SB': 0.0,\n",
       " 'OFF_SF': 0.0,\n",
       " 'OFF_SLG': 0.0,\n",
       " 'OFF_SO': 0.0,\n",
       " 'OFF_wOBA': 0.0,\n",
       " 'OFF_wRC+': 0.0,\n",
       " 'PITCH_AVG': 0.0,\n",
       " 'PITCH_Age': 0.0,\n",
       " 'PITCH_BABIP': 0.0,\n",
       " 'PITCH_BB': 0.0,\n",
       " 'PITCH_BB%': 0.0,\n",
       " 'PITCH_BB/9': 0.0,\n",
       " 'PITCH_BK': 0.0,\n",
       " 'PITCH_CG': 0.0,\n",
       " 'PITCH_ER': 0.0,\n",
       " 'PITCH_ERA': 0.0,\n",
       " 'PITCH_FIP': 0.0,\n",
       " 'PITCH_H': 0.0,\n",
       " 'PITCH_H/9': 0.0,\n",
       " 'PITCH_HBP': 0.0,\n",
       " 'PITCH_HR': 0.0,\n",
       " 'PITCH_HR/9': 0.0,\n",
       " 'PITCH_IBB': 0.0,\n",
       " 'PITCH_K%': 0.0,\n",
       " 'PITCH_K/9': 0.0,\n",
       " 'PITCH_K/BB': 0.0,\n",
       " 'PITCH_LOB%': 0.0,\n",
       " 'PITCH_R': 0.0,\n",
       " 'PITCH_Relief-IP': 0.0,\n",
       " 'PITCH_Relieving': 0.0,\n",
       " 'PITCH_SO': 0.0,\n",
       " 'PITCH_SV': 0.0,\n",
       " 'PITCH_ShO': 0.0,\n",
       " 'PITCH_Start-IP': 0.0,\n",
       " 'PITCH_Starting': 0.0,\n",
       " 'PITCH_WHIP': 0.0,\n",
       " 'PITCH_WP': 0.0,\n",
       " 'W': 0.0}"
      ]
     },
     "execution_count": 17,
     "metadata": {},
     "output_type": "execute_result"
    }
   ],
   "source": [
    "Nan_count2 = (CUMULATIVE_MLB_STATS_1998_to_2017_04.isnull().sum()/600).to_dict()\n",
    "Nan_count2\n"
   ]
  },
  {
   "cell_type": "markdown",
   "metadata": {},
   "source": [
    "With all the NaN and null values removed, I wrote out the final dataset. The number of features have been reduced to 67."
   ]
  },
  {
   "cell_type": "code",
   "execution_count": 18,
   "metadata": {},
   "outputs": [],
   "source": [
    "CUMULATIVE_MLB_STATS_1998_to_2017_04.to_csv('FINAL_DATASET_MLB_1998_to_2017.csv')"
   ]
  },
  {
   "cell_type": "markdown",
   "metadata": {},
   "source": [
    "### <a id='Reflections'><b><font color=black><center>6.0. Reflections</center></font></b></a>\n",
    "\n",
    "In this section, I have described the source of the dataset, detailed the collection process, inspected the data, and performed data wrangling in order to prepare the final dataset.  I made some major choices about the data.  First, I culled the data by removing features that are more player oriented than team oriented. Next, I cleaned up data that had the '%' sign.  Finally, I removed all features that had NaN values. Some, or even all, of the choices that I made may affect the model's performance. However, given the steps laid out in this section, it should be fairly simple to reverse or add another step which will lead to a different final data set.  Additionally, I saved off the datasets after every step.  Each of these save datasets could be substituted in the next section, building the model. "
   ]
  },
  {
   "cell_type": "code",
   "execution_count": null,
   "metadata": {},
   "outputs": [],
   "source": []
  }
 ],
 "metadata": {
  "kernelspec": {
   "display_name": "Python 3",
   "language": "python",
   "name": "python3"
  },
  "language_info": {
   "codemirror_mode": {
    "name": "ipython",
    "version": 3
   },
   "file_extension": ".py",
   "mimetype": "text/x-python",
   "name": "python",
   "nbconvert_exporter": "python",
   "pygments_lexer": "ipython3",
   "version": "3.6.4"
  }
 },
 "nbformat": 4,
 "nbformat_minor": 2
}
